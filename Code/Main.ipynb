{
 "cells": [
  {
   "cell_type": "markdown",
   "id": "0515be6f",
   "metadata": {},
   "source": [
    "## **Lab2 - Data Collection and Pre-Processing**"
   ]
  },
  {
   "cell_type": "markdown",
   "id": "0e4e8e90",
   "metadata": {},
   "source": [
    "**Name:** Mandeep Singh Brar  \n",
    "**ID Number:** 8989367  \n",
    "**Course Name:** Machine Learning Programming  \n",
    "**Course Code:** PROG8245"
   ]
  },
  {
   "cell_type": "markdown",
   "id": "16495c7e",
   "metadata": {},
   "source": [
    "### **Step 1:** Hello, Data!"
   ]
  },
  {
   "cell_type": "code",
   "execution_count": 1154,
   "id": "235d0eaf",
   "metadata": {},
   "outputs": [
    {
     "data": {
      "application/vnd.microsoft.datawrangler.viewer.v0+json": {
       "columns": [
        {
         "name": "index",
         "rawType": "int64",
         "type": "integer"
        },
        {
         "name": "Order ID",
         "rawType": "object",
         "type": "string"
        },
        {
         "name": "Order Date",
         "rawType": "object",
         "type": "string"
        },
        {
         "name": "Customer ID",
         "rawType": "object",
         "type": "string"
        },
        {
         "name": "Product ID",
         "rawType": "object",
         "type": "string"
        },
        {
         "name": "Product Name",
         "rawType": "object",
         "type": "string"
        },
        {
         "name": "Category",
         "rawType": "object",
         "type": "string"
        },
        {
         "name": "Sales",
         "rawType": "float64",
         "type": "float"
        },
        {
         "name": "Quantity",
         "rawType": "float64",
         "type": "float"
        },
        {
         "name": "City",
         "rawType": "object",
         "type": "string"
        }
       ],
       "ref": "d0ff7f6f-41ea-468b-9a89-1b1a3a5ab123",
       "rows": [
        [
         "0",
         "CA-2016-152156",
         "11/8/2016",
         "CG-12520",
         "FUR-BO-10001798",
         "Bush Somerset Collection Bookcase",
         "Furniture",
         "261.96",
         "2.0",
         "Henderson"
        ],
        [
         "1",
         "CA-2016-152156",
         "11/8/2016",
         "CG-12520",
         "FUR-CH-10000454",
         "Hon Deluxe Fabric Upholstered Stacking Chairs, Rounded Back",
         "Furniture",
         "731.94",
         "3.0",
         "Henderson"
        ],
        [
         "2",
         "CA-2016-138688",
         "6/12/2016",
         "DV-13045",
         "OFF-LA-10000240",
         "Self-Adhesive Address Labels for Typewriters by Universal",
         "Office Supplies",
         "14.62",
         "2.0",
         "Los Angeles"
        ]
       ],
       "shape": {
        "columns": 9,
        "rows": 3
       }
      },
      "text/html": [
       "<div>\n",
       "<style scoped>\n",
       "    .dataframe tbody tr th:only-of-type {\n",
       "        vertical-align: middle;\n",
       "    }\n",
       "\n",
       "    .dataframe tbody tr th {\n",
       "        vertical-align: top;\n",
       "    }\n",
       "\n",
       "    .dataframe thead th {\n",
       "        text-align: right;\n",
       "    }\n",
       "</style>\n",
       "<table border=\"1\" class=\"dataframe\">\n",
       "  <thead>\n",
       "    <tr style=\"text-align: right;\">\n",
       "      <th></th>\n",
       "      <th>Order ID</th>\n",
       "      <th>Order Date</th>\n",
       "      <th>Customer ID</th>\n",
       "      <th>Product ID</th>\n",
       "      <th>Product Name</th>\n",
       "      <th>Category</th>\n",
       "      <th>Sales</th>\n",
       "      <th>Quantity</th>\n",
       "      <th>City</th>\n",
       "    </tr>\n",
       "  </thead>\n",
       "  <tbody>\n",
       "    <tr>\n",
       "      <th>0</th>\n",
       "      <td>CA-2016-152156</td>\n",
       "      <td>11/8/2016</td>\n",
       "      <td>CG-12520</td>\n",
       "      <td>FUR-BO-10001798</td>\n",
       "      <td>Bush Somerset Collection Bookcase</td>\n",
       "      <td>Furniture</td>\n",
       "      <td>261.96</td>\n",
       "      <td>2.0</td>\n",
       "      <td>Henderson</td>\n",
       "    </tr>\n",
       "    <tr>\n",
       "      <th>1</th>\n",
       "      <td>CA-2016-152156</td>\n",
       "      <td>11/8/2016</td>\n",
       "      <td>CG-12520</td>\n",
       "      <td>FUR-CH-10000454</td>\n",
       "      <td>Hon Deluxe Fabric Upholstered Stacking Chairs,...</td>\n",
       "      <td>Furniture</td>\n",
       "      <td>731.94</td>\n",
       "      <td>3.0</td>\n",
       "      <td>Henderson</td>\n",
       "    </tr>\n",
       "    <tr>\n",
       "      <th>2</th>\n",
       "      <td>CA-2016-138688</td>\n",
       "      <td>6/12/2016</td>\n",
       "      <td>DV-13045</td>\n",
       "      <td>OFF-LA-10000240</td>\n",
       "      <td>Self-Adhesive Address Labels for Typewriters b...</td>\n",
       "      <td>Office Supplies</td>\n",
       "      <td>14.62</td>\n",
       "      <td>2.0</td>\n",
       "      <td>Los Angeles</td>\n",
       "    </tr>\n",
       "  </tbody>\n",
       "</table>\n",
       "</div>"
      ],
      "text/plain": [
       "         Order ID Order Date Customer ID       Product ID  \\\n",
       "0  CA-2016-152156  11/8/2016    CG-12520  FUR-BO-10001798   \n",
       "1  CA-2016-152156  11/8/2016    CG-12520  FUR-CH-10000454   \n",
       "2  CA-2016-138688  6/12/2016    DV-13045  OFF-LA-10000240   \n",
       "\n",
       "                                        Product Name         Category   Sales  \\\n",
       "0                  Bush Somerset Collection Bookcase        Furniture  261.96   \n",
       "1  Hon Deluxe Fabric Upholstered Stacking Chairs,...        Furniture  731.94   \n",
       "2  Self-Adhesive Address Labels for Typewriters b...  Office Supplies   14.62   \n",
       "\n",
       "   Quantity         City  \n",
       "0       2.0    Henderson  \n",
       "1       3.0    Henderson  \n",
       "2       2.0  Los Angeles  "
      ]
     },
     "execution_count": 1154,
     "metadata": {},
     "output_type": "execute_result"
    }
   ],
   "source": [
    "# Importing necessary libraries\n",
    "\n",
    "import pandas as pd     # pandas is used for data loading, cleaning, and analysis\n",
    "import numpy as np      # numpy is used for efficient numerical operations (e.g., for missing values)\n",
    "import matplotlib.pyplot as plt  # matplotlib is used for creating data visualizations like plots and charts\n",
    "import seaborn as sns   # seaborn is a statistical data visualization, great for advanced visualizations\n",
    "\n",
    "# Load the dataset\n",
    "df = pd.read_csv('c:/Users/singh/Desktop/500 Sales Records.csv')\n",
    "\n",
    "# Display the first 3 rows\n",
    "df.head(3)"
   ]
  },
  {
   "cell_type": "markdown",
   "id": "9918761f",
   "metadata": {},
   "source": [
    "### **Step 2:** Pick the Right Container\n",
    "\n",
    "**Dict** stores sales data flexibly but can be messy. **namedtuple** is cleaner for fixed columns. **class** is best if we want to add methods like profit calculation.\n",
    "\n",
    "**Conclusion:**\n",
    "For above dataset, a custom class is most useful if we are planning to add data validation or extra logic. For simply storing and accessing rows, a namedtuple is clean and efficient."
   ]
  },
  {
   "cell_type": "markdown",
   "id": "1d8e9117",
   "metadata": {},
   "source": [
    "### **Step 3:** Transaction Class and OO Data Structure"
   ]
  },
  {
   "cell_type": "code",
   "execution_count": 1155,
   "id": "e3da11b6",
   "metadata": {},
   "outputs": [
    {
     "name": "stdout",
     "output_type": "stream",
     "text": [
      "Transaction class defined.\n"
     ]
    }
   ],
   "source": [
    "from datetime import datetime # For converting date strings into Python date objects\n",
    "from typing import Optional # For type hinting optional fields in the Transaction class\n",
    "\n",
    "class Transaction:\n",
    "    def __init__(ecommerce, \n",
    "                 order_id, \n",
    "                 order_date, \n",
    "                 customer_id, \n",
    "                 product_id, \n",
    "                 product_name, \n",
    "                 category, \n",
    "                 sales, \n",
    "                 quantity, \n",
    "                 city):\n",
    "        \n",
    "        ecommerce.order_id = order_id\n",
    "        ecommerce.order_date = datetime.strptime(order_date, '%m/%d/%Y')\n",
    "        ecommerce.customer_id = customer_id\n",
    "        ecommerce.product_id = product_id\n",
    "        ecommerce.product_name = product_name\n",
    "        ecommerce.category = category\n",
    "        ecommerce.sales = float(sales)\n",
    "        ecommerce.quantity = int(quantity)\n",
    "        ecommerce.city = city\n",
    "\n",
    "    def __sale__(ecommerce):\n",
    "        return f\"Transaction({ecommerce.order_id}, {ecommerce.sales}, {ecommerce.city})\"\n",
    "\n",
    "print(\"Transaction class defined.\")\n"
   ]
  },
  {
   "cell_type": "markdown",
   "id": "38339b15",
   "metadata": {},
   "source": [
    "### **Step 4:** Bulk Loader"
   ]
  },
  {
   "cell_type": "code",
   "execution_count": 1156,
   "id": "9be9f8d7",
   "metadata": {},
   "outputs": [
    {
     "name": "stdout",
     "output_type": "stream",
     "text": [
      "Loaded 500 transactions.\n"
     ]
    }
   ],
   "source": [
    "from typing import List\n",
    "\n",
    "# Function to load transactions from a DataFrame\n",
    "def load_transactions(df) -> List[Transaction]:\n",
    "    transactions = [] # Empty list to store Transaction objects\n",
    "\n",
    "    # Loop through each row in the DataFrame\n",
    "    for _, row in df.iterrows():\n",
    "\n",
    "        # Create a Transaction object from row data\n",
    "        transactions.append(Transaction(\n",
    "            row['Order ID'],\n",
    "            row['Order Date'],\n",
    "            row['Customer ID'],\n",
    "            row['Product ID'],\n",
    "            row['Product Name'],\n",
    "            row['Category'],\n",
    "            row['Sales'],\n",
    "            row['Quantity'],\n",
    "            row['City']\n",
    "        ))\n",
    "    return transactions\n",
    "\n",
    "transactions = load_transactions(df)\n",
    "print(f\"Loaded {len(transactions)} transactions.\")"
   ]
  },
  {
   "cell_type": "markdown",
   "id": "def5c343",
   "metadata": {},
   "source": [
    "### **Step 5:** Quick Profiling"
   ]
  },
  {
   "cell_type": "code",
   "execution_count": 1157,
   "id": "3c676ac1",
   "metadata": {},
   "outputs": [
    {
     "name": "stdout",
     "output_type": "stream",
     "text": [
      "------ Quick Profiling ------\n",
      "Minimum Sales: 1.25\n",
      "Mean Sales: 258.85\n",
      "Maximum Sales: 8159.95\n",
      "Number of Unique Cities: 117\n",
      "Cities Name: ['Tampa', 'West Jordan', 'Columbia', 'Henderson', 'Amarillo', 'Redlands', 'Canton', 'Springfield', 'Fort Worth', 'Taylor', 'Hamilton', 'Naperville', 'Des Moines', 'Phoenix', 'Akron', 'Eagan', 'Houston', 'Louisville', 'Morristown', 'Durham', 'Gastonia', 'Bloomington', 'Jacksonville', 'Huntington Beach', 'Seattle', 'Saint Petersburg', 'Miami', 'Hesperia', 'Richardson', 'Newark', 'Inglewood', 'Costa Mesa', 'Tucson', 'Quincy', 'New York City', 'Roseville', 'Dallas', 'Hackensack', 'Rochester', 'Portland', 'Austin', 'Colorado Springs', 'Edmond', 'Belleville', 'Memphis', 'San Francisco', 'Whittier', 'Gilbert', 'Peoria', 'New Rochelle', 'Concord', 'Chapel Hill', 'Richmond', 'Saint Paul', 'Lakeville', 'Layton', 'Norman', 'Fremont', 'Jackson', 'Arlington', 'Manchester', 'Fayetteville', 'Bristol', 'Franklin', 'Troy', 'Carlsbad', 'Grand Prairie', 'Lindenhurst', 'Chicago', 'Medina', 'Urbandale', 'Wilmington', 'Pembroke Pines', 'Fairfield', 'Warwick', 'Auburn', 'Los Angeles', 'Las Vegas', 'Dover', 'Orem', 'Orland Park', 'Decatur', 'Cincinnati', 'Scottsdale', 'Westland', 'Fort Lauderdale', 'Lawrence', 'Harlingen', 'Murfreesboro', 'Monroe', 'New Albany', 'Arvada', 'Pasadena', 'Independence', 'Denver', 'Melbourne', 'Santa Clara', 'Madison', 'Columbus', 'Long Beach']\n"
     ]
    }
   ],
   "source": [
    "import math\n",
    "\n",
    "# Collect all sales values and unique cities from the transactions list.\n",
    "sales_values = [t.sales for t in transactions]\n",
    "unique_cities = {t.city for t in transactions}\n",
    "\n",
    "# Calculate min, mean, max sales.\n",
    "min_sales = min(sales_values)\n",
    "mean_sales = sum(sales_values) / len(sales_values)\n",
    "max_sales = max(sales_values)\n",
    "\n",
    "# Print results to understanding the sales values and cities.\n",
    "print(\"------ Quick Profiling ------\")\n",
    "print(f\"Minimum Sales: {min_sales:.2f}\")\n",
    "print(f\"Mean Sales: {mean_sales:.2f}\")\n",
    "print(f\"Maximum Sales: {max_sales:.2f}\")\n",
    "print(f\"Number of Unique Cities: {len(unique_cities)}\")\n",
    "print(f\"Cities Name: {list(unique_cities)[:100]}\")"
   ]
  },
  {
   "cell_type": "markdown",
   "id": "d0fbb9d6",
   "metadata": {},
   "source": [
    "### **Step 6:** Spot the Grime\n",
    "\n",
    "The major purpose of the spot the grime to identify the thress types of dirty data in the dataset:\n",
    "- Negative sales value\n",
    "- Non-positive quantity\n",
    "- Missing values"
   ]
  },
  {
   "cell_type": "code",
   "execution_count": 1158,
   "id": "677e46d6",
   "metadata": {},
   "outputs": [
    {
     "name": "stdout",
     "output_type": "stream",
     "text": [
      "----- Dirty value data cases found -----\n",
      "Total dirty data cases: 0\n",
      "\n"
     ]
    }
   ],
   "source": [
    "# List to store having details of all dirty data cases found\n",
    "dirty_cases = []\n",
    "\n",
    "# Loop through each transaction object in the transactions list\n",
    "for t in transactions:\n",
    "    # Checking for negative sales vales\n",
    "    if t.sales < 0:\n",
    "        dirty_cases.append({\n",
    "            'issue': 'Negative Sales Values',\n",
    "            'order_id': t.order_id,\n",
    "            'sales': t.sales,\n",
    "            'city': t.city\n",
    "        })\n",
    "        \n",
    "    # Checking for zero or negative quantity\n",
    "    if t.quantity <= 0:\n",
    "        dirty_cases.append({\n",
    "            'issue': 'Non-positive Quantity',\n",
    "            'order_id': t.order_id,\n",
    "            'quantity': t.quantity,\n",
    "            'city': t.city\n",
    "        })\n",
    "    \n",
    "    # Checking for missing, null and invalid city names\n",
    "    if not isinstance(t.city, str) or not t.city.strip():\n",
    "        dirty_cases.append({\n",
    "            'issue': 'Missing values',\n",
    "            'order_id': t.order_id,\n",
    "            'city': t.city,\n",
    "            'sales': t.sales\n",
    "        })\n",
    "\n",
    "# Print a summary of findings\n",
    "print(\"----- Dirty value data cases found -----\")\n",
    "print(f\"Total dirty data cases: {len(dirty_cases)}\\n\")\n",
    "\n",
    "# Show up to 5 sample dirty data cases for quick review\n",
    "for i, case in enumerate(dirty_cases[:5]):\n",
    "    print(f\"Case {i+1}: {case}\")"
   ]
  },
  {
   "cell_type": "markdown",
   "id": "067c896b",
   "metadata": {},
   "source": [
    "### **Step 7:** Cleaning Rules"
   ]
  },
  {
   "cell_type": "code",
   "execution_count": 1159,
   "id": "ef3ce663",
   "metadata": {},
   "outputs": [
    {
     "name": "stdout",
     "output_type": "stream",
     "text": [
      "----- Data Cleaning Report -----\n",
      "Records before cleaning: 500\n",
      "Records after cleaning:  500\n",
      "Records removed:         0\n"
     ]
    }
   ],
   "source": [
    "def clean(transactions):\n",
    "    \n",
    "    before_count = len(transactions)\n",
    "\n",
    "    cleaned_transactions = []\n",
    "    for t in transactions:\n",
    "        if t.sales < 0:\n",
    "            continue\n",
    "        if t.quantity <= 0:\n",
    "            continue\n",
    "        if not isinstance(t.city, str) or not t.city.strip():\n",
    "            continue\n",
    "        cleaned_transactions.append(t)\n",
    "    \n",
    "    after_count = len(cleaned_transactions)\n",
    "    print(\"----- Data Cleaning Report -----\")\n",
    "    print(f\"Records before cleaning: {before_count}\")\n",
    "    print(f\"Records after cleaning:  {after_count}\")\n",
    "    print(f\"Records removed:         {before_count - after_count}\")\n",
    "\n",
    "    return cleaned_transactions\n",
    "\n",
    "# Usage:\n",
    "transactions_clean = clean(transactions)"
   ]
  },
  {
   "cell_type": "markdown",
   "id": "4a00db3a",
   "metadata": {},
   "source": [
    "### **Step 8:** Transformations\n",
    "\n",
    "Extract a numeric discount from product_name if present in the form '10%OFF'.\n",
    "Returns the integer discount (e.g., 10) or 0 if not found."
   ]
  },
  {
   "cell_type": "code",
   "execution_count": 1160,
   "id": "950f9852",
   "metadata": {},
   "outputs": [],
   "source": [
    "def parse_discount(product_name):\n",
    "    \n",
    "    for word in product_name.split():\n",
    "        if word.endswith('%OFF'):\n",
    "            try:\n",
    "                return int(word.replace('%OFF', ''))\n",
    "            except ValueError:\n",
    "                continue\n",
    "    return 0\n",
    "\n",
    "for t in transactions_clean:\n",
    "    t.discount = parse_discount(t.product_name)"
   ]
  },
  {
   "cell_type": "markdown",
   "id": "3ec43d13",
   "metadata": {},
   "source": [
    "### **Step 9:** Feature Engineering"
   ]
  },
  {
   "cell_type": "code",
   "execution_count": 1161,
   "id": "c285ba38",
   "metadata": {},
   "outputs": [
    {
     "name": "stdout",
     "output_type": "stream",
     "text": [
      "\n",
      "------ Days since purchase ------\n",
      "Order Date: 2016-11-08, Days Since Purchase: 3122\n",
      "Order Date: 2016-11-08, Days Since Purchase: 3122\n",
      "Order Date: 2016-06-12, Days Since Purchase: 3271\n",
      "Order Date: 2015-10-11, Days Since Purchase: 3516\n",
      "Order Date: 2015-10-11, Days Since Purchase: 3516\n"
     ]
    }
   ],
   "source": [
    "from datetime import datetime\n",
    "\n",
    "today = datetime.today()\n",
    "for t in transactions_clean:\n",
    "    # Difference between in now days and order_date\n",
    "    t.days_since_purchase = (today - t.order_date).days\n",
    "\n",
    "print(\"\\n------ Days since purchase ------\")\n",
    "for t in transactions_clean[:5]:\n",
    "    print(f\"Order Date: {t.order_date.date()}, Days Since Purchase: {t.days_since_purchase}\")"
   ]
  },
  {
   "cell_type": "markdown",
   "id": "7be8fd00",
   "metadata": {},
   "source": [
    "### **Step 10:** Mini-Aggregation"
   ]
  },
  {
   "cell_type": "code",
   "execution_count": 1162,
   "id": "2c8bab90",
   "metadata": {},
   "outputs": [
    {
     "name": "stdout",
     "output_type": "stream",
     "text": [
      "\n",
      "------ Top 10 Cities by Total sales ------\n",
      "New York City: $15037.80\n",
      "Houston: $11566.00\n",
      "San Antonio: $10546.57\n",
      "Los Angeles: $8991.52\n",
      "San Francisco: $8308.86\n",
      "Chicago: $6762.27\n",
      "Philadelphia: $6264.84\n",
      "Franklin: $4181.40\n",
      "Lakeville: $3745.63\n",
      "San Diego: $3364.07\n"
     ]
    }
   ],
   "source": [
    "from collections import defaultdict\n",
    "\n",
    "# Calculate total sales per city\n",
    "city_sales = defaultdict(float)\n",
    "for t in transactions_clean:\n",
    "    city_sales[t.city] += t.sales\n",
    "\n",
    "# Sort cities by sales in descending order and take the top 10\n",
    "top_10_cities = sorted(city_sales.items(), key=lambda x: x[1], reverse=True)[:10]\n",
    "\n",
    "print(\"\\n------ Top 10 Cities by Total sales ------\")\n",
    "for city, sales in top_10_cities:\n",
    "    print(f\"{city}: ${sales:.2f}\")"
   ]
  },
  {
   "cell_type": "markdown",
   "id": "487a7692",
   "metadata": {},
   "source": [
    "### **Step 11:** Serialization Checkpoint"
   ]
  },
  {
   "cell_type": "code",
   "execution_count": 1163,
   "id": "11f66371",
   "metadata": {},
   "outputs": [
    {
     "name": "stdout",
     "output_type": "stream",
     "text": [
      "Requirement already satisfied: pyarrow in c:\\users\\singh\\appdata\\local\\programs\\python\\python312\\lib\\site-packages (20.0.0)\n"
     ]
    },
    {
     "name": "stderr",
     "output_type": "stream",
     "text": [
      "\n",
      "[notice] A new release of pip is available: 24.0 -> 25.1.1\n",
      "[notice] To update, run: python.exe -m pip install --upgrade pip\n"
     ]
    }
   ],
   "source": [
    "!pip install pyarrow\n"
   ]
  },
  {
   "cell_type": "code",
   "execution_count": null,
   "id": "3b729e55",
   "metadata": {},
   "outputs": [
    {
     "name": "stdout",
     "output_type": "stream",
     "text": [
      "Serialized to JSON and Parquet.\n"
     ]
    }
   ],
   "source": [
    "from pandas.io.parquet import to_parquet\n",
    "\n",
    "# Convert back to DataFrame for saving (best for parquet/json)\n",
    "df_cleaned = pd.DataFrame([t.__dict__ for t in transactions_clean])\n",
    "df_cleaned.to_json(\"final_cleaned_transactions_data.json\", orient=\"records\", lines=True)\n",
    "df_cleaned.to_parquet(\"final_cleaned_transactions_data.parquet\")\n",
    "print(\"JSON and Parquet files saved successfully.\")"
   ]
  },
  {
   "cell_type": "markdown",
   "id": "d0620d46",
   "metadata": {},
   "source": [
    "### **Step 12:** Soft Interview Reflection\n",
    "\n",
    "I have utilised OOP and the Transaction class to organise the data pipeline effectively, rendering data cleaning, transformation, and feature engineering modular and scalable. This method facilitates modifications to business logic or data structure in a singular location, enhancing maintainability and code reusability. Iterative processes—such as the incorporation of new fields or the refinement of rules—become straightforward, transparent, and resilient."
   ]
  },
  {
   "cell_type": "markdown",
   "id": "a52e5d9a",
   "metadata": {},
   "source": [
    "### **Data-Dictionary Section**"
   ]
  },
  {
   "cell_type": "code",
   "execution_count": 1165,
   "id": "b12d0f1c",
   "metadata": {},
   "outputs": [
    {
     "data": {
      "application/vnd.microsoft.datawrangler.viewer.v0+json": {
       "columns": [
        {
         "name": "index",
         "rawType": "int64",
         "type": "integer"
        },
        {
         "name": "Field",
         "rawType": "object",
         "type": "string"
        },
        {
         "name": "Type",
         "rawType": "object",
         "type": "string"
        },
        {
         "name": "Description",
         "rawType": "object",
         "type": "string"
        },
        {
         "name": "Source",
         "rawType": "object",
         "type": "string"
        }
       ],
       "ref": "82ce0fb5-d706-4c14-a99c-38b9d383dbb6",
       "rows": [
        [
         "0",
         "Order ID",
         "string",
         "Unique identifier for each order",
         "Primary"
        ],
        [
         "1",
         "Order Date",
         "date",
         "Date the order was placed",
         "Primary"
        ],
        [
         "2",
         "Customer ID",
         "string",
         "Unique customer identifier",
         "Primary"
        ],
        [
         "3",
         "Product ID",
         "string",
         "Unique product identifier",
         "Primary"
        ],
        [
         "4",
         "Product Name",
         "string",
         "Name of the product purchased",
         "Primary"
        ],
        [
         "5",
         "Category",
         "string",
         "Product category",
         "Primary"
        ],
        [
         "6",
         "Sales",
         "float",
         "Sale amount for the order line",
         "Primary"
        ],
        [
         "7",
         "Quantity",
         "int",
         "Number of units ordered",
         "Primary"
        ],
        [
         "8",
         "City",
         "string",
         "City where order was shipped",
         "Primary"
        ],
        [
         "9",
         "Sub-Category",
         "string",
         "Detailed product sub-category",
         "Secondary"
        ],
        [
         "10",
         "Discount",
         "float",
         "Discount applied to the product",
         "Secondary"
        ],
        [
         "11",
         "Profit",
         "float",
         "Profit earned from the product",
         "Secondary"
        ],
        [
         "12",
         "Region",
         "string",
         "Sales region of the product",
         "Secondary"
        ],
        [
         "13",
         "State",
         "string",
         "State where the order was shipped",
         "Secondary"
        ],
        [
         "14",
         "days_since_purchase",
         "int",
         "Days since the order date",
         "Engineered"
        ]
       ],
       "shape": {
        "columns": 4,
        "rows": 15
       }
      },
      "text/html": [
       "<div>\n",
       "<style scoped>\n",
       "    .dataframe tbody tr th:only-of-type {\n",
       "        vertical-align: middle;\n",
       "    }\n",
       "\n",
       "    .dataframe tbody tr th {\n",
       "        vertical-align: top;\n",
       "    }\n",
       "\n",
       "    .dataframe thead th {\n",
       "        text-align: right;\n",
       "    }\n",
       "</style>\n",
       "<table border=\"1\" class=\"dataframe\">\n",
       "  <thead>\n",
       "    <tr style=\"text-align: right;\">\n",
       "      <th></th>\n",
       "      <th>Field</th>\n",
       "      <th>Type</th>\n",
       "      <th>Description</th>\n",
       "      <th>Source</th>\n",
       "    </tr>\n",
       "  </thead>\n",
       "  <tbody>\n",
       "    <tr>\n",
       "      <th>0</th>\n",
       "      <td>Order ID</td>\n",
       "      <td>string</td>\n",
       "      <td>Unique identifier for each order</td>\n",
       "      <td>Primary</td>\n",
       "    </tr>\n",
       "    <tr>\n",
       "      <th>1</th>\n",
       "      <td>Order Date</td>\n",
       "      <td>date</td>\n",
       "      <td>Date the order was placed</td>\n",
       "      <td>Primary</td>\n",
       "    </tr>\n",
       "    <tr>\n",
       "      <th>2</th>\n",
       "      <td>Customer ID</td>\n",
       "      <td>string</td>\n",
       "      <td>Unique customer identifier</td>\n",
       "      <td>Primary</td>\n",
       "    </tr>\n",
       "    <tr>\n",
       "      <th>3</th>\n",
       "      <td>Product ID</td>\n",
       "      <td>string</td>\n",
       "      <td>Unique product identifier</td>\n",
       "      <td>Primary</td>\n",
       "    </tr>\n",
       "    <tr>\n",
       "      <th>4</th>\n",
       "      <td>Product Name</td>\n",
       "      <td>string</td>\n",
       "      <td>Name of the product purchased</td>\n",
       "      <td>Primary</td>\n",
       "    </tr>\n",
       "    <tr>\n",
       "      <th>5</th>\n",
       "      <td>Category</td>\n",
       "      <td>string</td>\n",
       "      <td>Product category</td>\n",
       "      <td>Primary</td>\n",
       "    </tr>\n",
       "    <tr>\n",
       "      <th>6</th>\n",
       "      <td>Sales</td>\n",
       "      <td>float</td>\n",
       "      <td>Sale amount for the order line</td>\n",
       "      <td>Primary</td>\n",
       "    </tr>\n",
       "    <tr>\n",
       "      <th>7</th>\n",
       "      <td>Quantity</td>\n",
       "      <td>int</td>\n",
       "      <td>Number of units ordered</td>\n",
       "      <td>Primary</td>\n",
       "    </tr>\n",
       "    <tr>\n",
       "      <th>8</th>\n",
       "      <td>City</td>\n",
       "      <td>string</td>\n",
       "      <td>City where order was shipped</td>\n",
       "      <td>Primary</td>\n",
       "    </tr>\n",
       "    <tr>\n",
       "      <th>9</th>\n",
       "      <td>Sub-Category</td>\n",
       "      <td>string</td>\n",
       "      <td>Detailed product sub-category</td>\n",
       "      <td>Secondary</td>\n",
       "    </tr>\n",
       "    <tr>\n",
       "      <th>10</th>\n",
       "      <td>Discount</td>\n",
       "      <td>float</td>\n",
       "      <td>Discount applied to the product</td>\n",
       "      <td>Secondary</td>\n",
       "    </tr>\n",
       "    <tr>\n",
       "      <th>11</th>\n",
       "      <td>Profit</td>\n",
       "      <td>float</td>\n",
       "      <td>Profit earned from the product</td>\n",
       "      <td>Secondary</td>\n",
       "    </tr>\n",
       "    <tr>\n",
       "      <th>12</th>\n",
       "      <td>Region</td>\n",
       "      <td>string</td>\n",
       "      <td>Sales region of the product</td>\n",
       "      <td>Secondary</td>\n",
       "    </tr>\n",
       "    <tr>\n",
       "      <th>13</th>\n",
       "      <td>State</td>\n",
       "      <td>string</td>\n",
       "      <td>State where the order was shipped</td>\n",
       "      <td>Secondary</td>\n",
       "    </tr>\n",
       "    <tr>\n",
       "      <th>14</th>\n",
       "      <td>days_since_purchase</td>\n",
       "      <td>int</td>\n",
       "      <td>Days since the order date</td>\n",
       "      <td>Engineered</td>\n",
       "    </tr>\n",
       "  </tbody>\n",
       "</table>\n",
       "</div>"
      ],
      "text/plain": [
       "                  Field    Type                        Description      Source\n",
       "0              Order ID  string   Unique identifier for each order     Primary\n",
       "1            Order Date    date          Date the order was placed     Primary\n",
       "2           Customer ID  string         Unique customer identifier     Primary\n",
       "3            Product ID  string          Unique product identifier     Primary\n",
       "4          Product Name  string      Name of the product purchased     Primary\n",
       "5              Category  string                   Product category     Primary\n",
       "6                 Sales   float     Sale amount for the order line     Primary\n",
       "7              Quantity     int            Number of units ordered     Primary\n",
       "8                  City  string       City where order was shipped     Primary\n",
       "9          Sub-Category  string      Detailed product sub-category   Secondary\n",
       "10             Discount   float    Discount applied to the product   Secondary\n",
       "11               Profit   float     Profit earned from the product   Secondary\n",
       "12               Region  string        Sales region of the product   Secondary\n",
       "13                State  string  State where the order was shipped   Secondary\n",
       "14  days_since_purchase     int          Days since the order date  Engineered"
      ]
     },
     "execution_count": 1165,
     "metadata": {},
     "output_type": "execute_result"
    }
   ],
   "source": [
    "import pandas as pd\n",
    "\n",
    "# Load primary and secondary files\n",
    "primary = df  # Assuming the primary file is the main sales records\n",
    "secondary = pd.read_csv('c:/Users/singh/Desktop/secondary_product_catalogue.csv', nrows=1) # Secondary file for additional product details\n",
    "\n",
    "# Define the data dictionary directly\n",
    "data_dictionary = [\n",
    "    [\"Order ID\", \"string\", \"Unique identifier for each order\", \"Primary\"],\n",
    "    [\"Order Date\", \"date\", \"Date the order was placed\", \"Primary\"],\n",
    "    [\"Customer ID\", \"string\", \"Unique customer identifier\", \"Primary\"],\n",
    "    [\"Product ID\", \"string\", \"Unique product identifier\", \"Primary\"],\n",
    "    [\"Product Name\", \"string\", \"Name of the product purchased\", \"Primary\"],\n",
    "    [\"Category\", \"string\", \"Product category\", \"Primary\"],\n",
    "    [\"Sales\", \"float\", \"Sale amount for the order line\", \"Primary\"],\n",
    "    [\"Quantity\", \"int\", \"Number of units ordered\", \"Primary\"],\n",
    "    [\"City\", \"string\", \"City where order was shipped\", \"Primary\"],\n",
    "    [\"Sub-Category\", \"string\", \"Detailed product sub-category\", \"Secondary\"],\n",
    "    [\"Discount\", \"float\", \"Discount applied to the product\", \"Secondary\"],\n",
    "    [\"Profit\", \"float\", \"Profit earned from the product\", \"Secondary\"],\n",
    "    [\"Region\", \"string\", \"Sales region of the product\", \"Secondary\"],\n",
    "    [\"State\", \"string\", \"State where the order was shipped\", \"Secondary\"],\n",
    "    [\"days_since_purchase\", \"int\", \"Days since the order date\", \"Engineered\"],\n",
    "]\n",
    "\n",
    "# Create and display the DataFrame\n",
    "df_dictionary = pd.DataFrame(data_dictionary, columns=[\"Field\", \"Type\", \"Description\", \"Source\"])\n",
    "df_dictionary\n"
   ]
  },
  {
   "cell_type": "markdown",
   "id": "fb311b2a",
   "metadata": {},
   "source": [
    "### Data Dictonary Section as Markdown\n",
    "\n",
    "| Field              | Type   | Description                         | Source     |\n",
    "|--------------------|--------|-------------------------------------|------------|\n",
    "| Order ID           | string | Unique identifier for each order    | Primary    |\n",
    "| Order Date         | date   | Date the order was placed           | Primary    |\n",
    "| Customer ID        | string | Unique customer identifier          | Primary    |\n",
    "| Product ID         | string | Unique product identifier           | Primary    |\n",
    "| Product Name       | string | Name of the product purchased       | Primary    |\n",
    "| Category           | string | Product category                    | Primary    |\n",
    "| Sales              | float  | Sale amount for the order line      | Primary    |\n",
    "| Quantity           | int    | Number of units ordered             | Primary    |\n",
    "| City               | string | City where order was shipped        | Primary    |\n",
    "| Sub-Category       | string | Detailed product sub-category       | Secondary  |\n",
    "| Discount           | float  | Discount applied to the product     | Secondary  |\n",
    "| Profit             | float  | Profit earned from the product      | Secondary  |\n",
    "| Region             | string | Sales region of the product         | Secondary  |\n",
    "| State              | string | State where the order was shipped   | Secondary  |\n",
    "| days_since_purchase| int    | Days since the order date           | Engineered |\n"
   ]
  },
  {
   "cell_type": "markdown",
   "id": "09ae9243",
   "metadata": {},
   "source": [
    "### Reference\n",
    "\n",
    "I have taken the reference of chatgpt and copilot for helping me in understanding and structuring the code to write the program. I have rewrite and reviewed the completed code by my own. I took the help of the references to increase my learning level, coding the transaction, clean to fulfill my assignment requirements.  \n",
    "\n"
   ]
  }
 ],
 "metadata": {
  "kernelspec": {
   "display_name": "Python 3",
   "language": "python",
   "name": "python3"
  },
  "language_info": {
   "codemirror_mode": {
    "name": "ipython",
    "version": 3
   },
   "file_extension": ".py",
   "mimetype": "text/x-python",
   "name": "python",
   "nbconvert_exporter": "python",
   "pygments_lexer": "ipython3",
   "version": "3.12.3"
  }
 },
 "nbformat": 4,
 "nbformat_minor": 5
}
