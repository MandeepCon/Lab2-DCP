{
 "cells": [
  {
   "cell_type": "markdown",
   "id": "0515be6f",
   "metadata": {},
   "source": [
    "## **Lab2 - Data Collection and Pre-processing**"
   ]
  },
  {
   "cell_type": "code",
   "execution_count": null,
   "id": "3bcadd1c",
   "metadata": {},
   "outputs": [],
   "source": []
  }
 ],
 "metadata": {
  "language_info": {
   "name": "python"
  }
 },
 "nbformat": 4,
 "nbformat_minor": 5
}
