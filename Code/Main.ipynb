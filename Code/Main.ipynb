{
 "cells": [
  {
   "cell_type": "markdown",
   "id": "0515be6f",
   "metadata": {},
   "source": [
    "## **Lab2 - Data Collection and Pre-Processing**"
   ]
  },
  {
   "cell_type": "markdown",
   "id": "0e4e8e90",
   "metadata": {},
   "source": [
    "**Name:** Mandeep Singh Brar  \n",
    "**ID Number:** 8989367  \n",
    "**Course Name:** Machine Learning Programming  \n",
    "**Course Code:** PROG8245"
   ]
  },
  {
   "cell_type": "markdown",
   "id": "243f69e0",
   "metadata": {},
   "source": [
    "## **Hello, Data!**"
   ]
  }
 ],
 "metadata": {
  "language_info": {
   "name": "python"
  }
 },
 "nbformat": 4,
 "nbformat_minor": 5
}
