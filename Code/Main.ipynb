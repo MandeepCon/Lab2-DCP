{
 "cells": [
  {
   "cell_type": "markdown",
   "id": "0515be6f",
   "metadata": {},
   "source": [
    "## **Lab2 - Data Collection and Pre-Processing**"
   ]
  },
  {
   "cell_type": "markdown",
   "id": "0e4e8e90",
   "metadata": {},
   "source": [
    "**Name:** Mandeep Singh Brar  \n",
    "**ID Number:** 8989367  \n",
    "**Course Name:** Machine Learning Programming  \n",
    "**Course Code:** PROG8245"
   ]
  },
  {
   "cell_type": "markdown",
   "id": "243f69e0",
   "metadata": {},
   "source": [
    "## **Hello, Data!**"
   ]
  },
  {
   "cell_type": "code",
   "execution_count": null,
   "id": "235d0eaf",
   "metadata": {},
   "outputs": [
    {
     "data": {
      "application/vnd.microsoft.datawrangler.viewer.v0+json": {
       "columns": [
        {
         "name": "index",
         "rawType": "int64",
         "type": "integer"
        },
        {
         "name": "Region",
         "rawType": "object",
         "type": "string"
        },
        {
         "name": "Country",
         "rawType": "object",
         "type": "string"
        },
        {
         "name": "Item Type",
         "rawType": "object",
         "type": "string"
        },
        {
         "name": "Sales Channel",
         "rawType": "object",
         "type": "string"
        },
        {
         "name": "Order Priority",
         "rawType": "object",
         "type": "string"
        },
        {
         "name": "Order Date",
         "rawType": "object",
         "type": "string"
        },
        {
         "name": "Order ID",
         "rawType": "float64",
         "type": "float"
        },
        {
         "name": "Ship Date",
         "rawType": "object",
         "type": "string"
        },
        {
         "name": "Units Sold",
         "rawType": "float64",
         "type": "float"
        },
        {
         "name": "Unit Price",
         "rawType": "float64",
         "type": "float"
        },
        {
         "name": "Unit Cost",
         "rawType": "float64",
         "type": "float"
        },
        {
         "name": "Total Revenue",
         "rawType": "float64",
         "type": "float"
        },
        {
         "name": "Total Cost",
         "rawType": "float64",
         "type": "float"
        },
        {
         "name": "Total Profit",
         "rawType": "float64",
         "type": "float"
        }
       ],
       "ref": "970321db-720c-4710-bf14-53d094e9c4ce",
       "rows": [
        [
         "0",
         "Middle East and North Africa",
         "Libya",
         "Cosmetics",
         "Offline",
         "M",
         "10/18/2014",
         "686800706.0",
         "10/31/2014",
         "8446.0",
         "437.2",
         "263.33",
         "3692591.2",
         "2224085.18",
         "1468506.02"
        ],
        [
         "1",
         "North America",
         "Canada",
         "Vegetables",
         "Online",
         "M",
         "11/7/2011",
         "185941302.0",
         "12/8/2011",
         "3018.0",
         "154.06",
         "90.93",
         "464953.08",
         "274426.74",
         "190526.34"
        ],
        [
         "2",
         "Middle East and North Africa",
         "Libya",
         "Baby Food",
         "Offline",
         "C",
         "10/31/2016",
         "246222341.0",
         "12/9/2016",
         "1517.0",
         "255.28",
         "159.42",
         "387259.76",
         "241840.14",
         "145419.62"
        ]
       ],
       "shape": {
        "columns": 14,
        "rows": 3
       }
      },
      "text/html": [
       "<div>\n",
       "<style scoped>\n",
       "    .dataframe tbody tr th:only-of-type {\n",
       "        vertical-align: middle;\n",
       "    }\n",
       "\n",
       "    .dataframe tbody tr th {\n",
       "        vertical-align: top;\n",
       "    }\n",
       "\n",
       "    .dataframe thead th {\n",
       "        text-align: right;\n",
       "    }\n",
       "</style>\n",
       "<table border=\"1\" class=\"dataframe\">\n",
       "  <thead>\n",
       "    <tr style=\"text-align: right;\">\n",
       "      <th></th>\n",
       "      <th>Region</th>\n",
       "      <th>Country</th>\n",
       "      <th>Item Type</th>\n",
       "      <th>Sales Channel</th>\n",
       "      <th>Order Priority</th>\n",
       "      <th>Order Date</th>\n",
       "      <th>Order ID</th>\n",
       "      <th>Ship Date</th>\n",
       "      <th>Units Sold</th>\n",
       "      <th>Unit Price</th>\n",
       "      <th>Unit Cost</th>\n",
       "      <th>Total Revenue</th>\n",
       "      <th>Total Cost</th>\n",
       "      <th>Total Profit</th>\n",
       "    </tr>\n",
       "  </thead>\n",
       "  <tbody>\n",
       "    <tr>\n",
       "      <th>0</th>\n",
       "      <td>Middle East and North Africa</td>\n",
       "      <td>Libya</td>\n",
       "      <td>Cosmetics</td>\n",
       "      <td>Offline</td>\n",
       "      <td>M</td>\n",
       "      <td>10/18/2014</td>\n",
       "      <td>686800706.0</td>\n",
       "      <td>10/31/2014</td>\n",
       "      <td>8446.0</td>\n",
       "      <td>437.20</td>\n",
       "      <td>263.33</td>\n",
       "      <td>3692591.20</td>\n",
       "      <td>2224085.18</td>\n",
       "      <td>1468506.02</td>\n",
       "    </tr>\n",
       "    <tr>\n",
       "      <th>1</th>\n",
       "      <td>North America</td>\n",
       "      <td>Canada</td>\n",
       "      <td>Vegetables</td>\n",
       "      <td>Online</td>\n",
       "      <td>M</td>\n",
       "      <td>11/7/2011</td>\n",
       "      <td>185941302.0</td>\n",
       "      <td>12/8/2011</td>\n",
       "      <td>3018.0</td>\n",
       "      <td>154.06</td>\n",
       "      <td>90.93</td>\n",
       "      <td>464953.08</td>\n",
       "      <td>274426.74</td>\n",
       "      <td>190526.34</td>\n",
       "    </tr>\n",
       "    <tr>\n",
       "      <th>2</th>\n",
       "      <td>Middle East and North Africa</td>\n",
       "      <td>Libya</td>\n",
       "      <td>Baby Food</td>\n",
       "      <td>Offline</td>\n",
       "      <td>C</td>\n",
       "      <td>10/31/2016</td>\n",
       "      <td>246222341.0</td>\n",
       "      <td>12/9/2016</td>\n",
       "      <td>1517.0</td>\n",
       "      <td>255.28</td>\n",
       "      <td>159.42</td>\n",
       "      <td>387259.76</td>\n",
       "      <td>241840.14</td>\n",
       "      <td>145419.62</td>\n",
       "    </tr>\n",
       "  </tbody>\n",
       "</table>\n",
       "</div>"
      ],
      "text/plain": [
       "                         Region Country   Item Type Sales Channel  \\\n",
       "0  Middle East and North Africa   Libya   Cosmetics       Offline   \n",
       "1                 North America  Canada  Vegetables        Online   \n",
       "2  Middle East and North Africa   Libya   Baby Food       Offline   \n",
       "\n",
       "  Order Priority  Order Date     Order ID   Ship Date  Units Sold  Unit Price  \\\n",
       "0              M  10/18/2014  686800706.0  10/31/2014      8446.0      437.20   \n",
       "1              M   11/7/2011  185941302.0   12/8/2011      3018.0      154.06   \n",
       "2              C  10/31/2016  246222341.0   12/9/2016      1517.0      255.28   \n",
       "\n",
       "   Unit Cost  Total Revenue  Total Cost  Total Profit  \n",
       "0     263.33     3692591.20  2224085.18    1468506.02  \n",
       "1      90.93      464953.08   274426.74     190526.34  \n",
       "2     159.42      387259.76   241840.14     145419.62  "
      ]
     },
     "execution_count": 3,
     "metadata": {},
     "output_type": "execute_result"
    }
   ],
   "source": [
    "# Importing necessary libraries\n",
    "\n",
    "import pandas as pd     # pandas is used for data loading, cleaning, and analysis\n",
    "import numpy as np      # numpy is used for efficient numerical operations (e.g., for missing values)\n",
    "import matplotlib.pyplot as plt  # matplotlib is used for creating data visualizations like plots and charts\n",
    "import seaborn as sns   # seaborn is a statistical data visualization library based on matplotlib, great for advanced visualizations\n",
    "\n",
    "# Load the dataset\n",
    "df = pd.read_csv('c:/Users/singh/Desktop/500 Sales Records.csv')\n",
    "\n",
    "# Display the first 3 rows\n",
    "df.head(3)"
   ]
  }
 ],
 "metadata": {
  "kernelspec": {
   "display_name": "Python 3",
   "language": "python",
   "name": "python3"
  },
  "language_info": {
   "codemirror_mode": {
    "name": "ipython",
    "version": 3
   },
   "file_extension": ".py",
   "mimetype": "text/x-python",
   "name": "python",
   "nbconvert_exporter": "python",
   "pygments_lexer": "ipython3",
   "version": "3.12.3"
  }
 },
 "nbformat": 4,
 "nbformat_minor": 5
}
