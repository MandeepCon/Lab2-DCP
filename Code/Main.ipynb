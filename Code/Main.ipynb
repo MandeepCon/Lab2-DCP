{
 "cells": [
  {
   "cell_type": "markdown",
   "id": "0515be6f",
   "metadata": {},
   "source": [
    "## **Lab2 - Data Collection and Pre-Processing**"
   ]
  },
  {
   "cell_type": "markdown",
   "id": "0e4e8e90",
   "metadata": {},
   "source": [
    "**Name:** Mandeep Singh Brar  \n",
    "**ID Number:** 8989367  \n",
    "**Course Name:** Machine Learning Programming  \n",
    "**Course Code:** PROG8245"
   ]
  },
  {
   "cell_type": "markdown",
   "id": "16495c7e",
   "metadata": {},
   "source": [
    "### **Step 1:** Hello, Data!"
   ]
  },
  {
   "cell_type": "code",
   "execution_count": 189,
   "id": "235d0eaf",
   "metadata": {},
   "outputs": [
    {
     "data": {
      "application/vnd.microsoft.datawrangler.viewer.v0+json": {
       "columns": [
        {
         "name": "index",
         "rawType": "int64",
         "type": "integer"
        },
        {
         "name": "Region",
         "rawType": "object",
         "type": "string"
        },
        {
         "name": "Country",
         "rawType": "object",
         "type": "string"
        },
        {
         "name": "Item Type",
         "rawType": "object",
         "type": "string"
        },
        {
         "name": "Sales Channel",
         "rawType": "object",
         "type": "string"
        },
        {
         "name": "Order Priority",
         "rawType": "object",
         "type": "string"
        },
        {
         "name": "Order Date",
         "rawType": "object",
         "type": "string"
        },
        {
         "name": "Order ID",
         "rawType": "float64",
         "type": "float"
        },
        {
         "name": "Ship Date",
         "rawType": "object",
         "type": "string"
        },
        {
         "name": "Units Sold",
         "rawType": "float64",
         "type": "float"
        },
        {
         "name": "Unit Price",
         "rawType": "float64",
         "type": "float"
        },
        {
         "name": "Unit Cost",
         "rawType": "float64",
         "type": "float"
        },
        {
         "name": "Total Revenue",
         "rawType": "float64",
         "type": "float"
        },
        {
         "name": "Total Cost",
         "rawType": "float64",
         "type": "float"
        },
        {
         "name": "Total Profit",
         "rawType": "float64",
         "type": "float"
        }
       ],
       "ref": "129a4049-b395-4d32-a9c7-6ce97a37d2af",
       "rows": [
        [
         "0",
         "Middle East and North Africa",
         "Libya",
         "Cosmetics",
         "Offline",
         "M",
         "10/18/2014",
         "686800706.0",
         "10/31/2014",
         "8446.0",
         "437.2",
         "263.33",
         "3692591.2",
         "2224085.18",
         "1468506.02"
        ],
        [
         "1",
         "North America",
         "Canada",
         "Vegetables",
         "Online",
         "M",
         "11/7/2011",
         "185941302.0",
         "12/8/2011",
         "3018.0",
         "154.06",
         "90.93",
         "464953.08",
         "274426.74",
         "190526.34"
        ],
        [
         "2",
         "Middle East and North Africa",
         "Libya",
         "Baby Food",
         "Offline",
         "C",
         "10/31/2016",
         "246222341.0",
         "12/9/2016",
         "1517.0",
         "255.28",
         "159.42",
         "387259.76",
         "241840.14",
         "145419.62"
        ]
       ],
       "shape": {
        "columns": 14,
        "rows": 3
       }
      },
      "text/html": [
       "<div>\n",
       "<style scoped>\n",
       "    .dataframe tbody tr th:only-of-type {\n",
       "        vertical-align: middle;\n",
       "    }\n",
       "\n",
       "    .dataframe tbody tr th {\n",
       "        vertical-align: top;\n",
       "    }\n",
       "\n",
       "    .dataframe thead th {\n",
       "        text-align: right;\n",
       "    }\n",
       "</style>\n",
       "<table border=\"1\" class=\"dataframe\">\n",
       "  <thead>\n",
       "    <tr style=\"text-align: right;\">\n",
       "      <th></th>\n",
       "      <th>Region</th>\n",
       "      <th>Country</th>\n",
       "      <th>Item Type</th>\n",
       "      <th>Sales Channel</th>\n",
       "      <th>Order Priority</th>\n",
       "      <th>Order Date</th>\n",
       "      <th>Order ID</th>\n",
       "      <th>Ship Date</th>\n",
       "      <th>Units Sold</th>\n",
       "      <th>Unit Price</th>\n",
       "      <th>Unit Cost</th>\n",
       "      <th>Total Revenue</th>\n",
       "      <th>Total Cost</th>\n",
       "      <th>Total Profit</th>\n",
       "    </tr>\n",
       "  </thead>\n",
       "  <tbody>\n",
       "    <tr>\n",
       "      <th>0</th>\n",
       "      <td>Middle East and North Africa</td>\n",
       "      <td>Libya</td>\n",
       "      <td>Cosmetics</td>\n",
       "      <td>Offline</td>\n",
       "      <td>M</td>\n",
       "      <td>10/18/2014</td>\n",
       "      <td>686800706.0</td>\n",
       "      <td>10/31/2014</td>\n",
       "      <td>8446.0</td>\n",
       "      <td>437.20</td>\n",
       "      <td>263.33</td>\n",
       "      <td>3692591.20</td>\n",
       "      <td>2224085.18</td>\n",
       "      <td>1468506.02</td>\n",
       "    </tr>\n",
       "    <tr>\n",
       "      <th>1</th>\n",
       "      <td>North America</td>\n",
       "      <td>Canada</td>\n",
       "      <td>Vegetables</td>\n",
       "      <td>Online</td>\n",
       "      <td>M</td>\n",
       "      <td>11/7/2011</td>\n",
       "      <td>185941302.0</td>\n",
       "      <td>12/8/2011</td>\n",
       "      <td>3018.0</td>\n",
       "      <td>154.06</td>\n",
       "      <td>90.93</td>\n",
       "      <td>464953.08</td>\n",
       "      <td>274426.74</td>\n",
       "      <td>190526.34</td>\n",
       "    </tr>\n",
       "    <tr>\n",
       "      <th>2</th>\n",
       "      <td>Middle East and North Africa</td>\n",
       "      <td>Libya</td>\n",
       "      <td>Baby Food</td>\n",
       "      <td>Offline</td>\n",
       "      <td>C</td>\n",
       "      <td>10/31/2016</td>\n",
       "      <td>246222341.0</td>\n",
       "      <td>12/9/2016</td>\n",
       "      <td>1517.0</td>\n",
       "      <td>255.28</td>\n",
       "      <td>159.42</td>\n",
       "      <td>387259.76</td>\n",
       "      <td>241840.14</td>\n",
       "      <td>145419.62</td>\n",
       "    </tr>\n",
       "  </tbody>\n",
       "</table>\n",
       "</div>"
      ],
      "text/plain": [
       "                         Region Country   Item Type Sales Channel  \\\n",
       "0  Middle East and North Africa   Libya   Cosmetics       Offline   \n",
       "1                 North America  Canada  Vegetables        Online   \n",
       "2  Middle East and North Africa   Libya   Baby Food       Offline   \n",
       "\n",
       "  Order Priority  Order Date     Order ID   Ship Date  Units Sold  Unit Price  \\\n",
       "0              M  10/18/2014  686800706.0  10/31/2014      8446.0      437.20   \n",
       "1              M   11/7/2011  185941302.0   12/8/2011      3018.0      154.06   \n",
       "2              C  10/31/2016  246222341.0   12/9/2016      1517.0      255.28   \n",
       "\n",
       "   Unit Cost  Total Revenue  Total Cost  Total Profit  \n",
       "0     263.33     3692591.20  2224085.18    1468506.02  \n",
       "1      90.93      464953.08   274426.74     190526.34  \n",
       "2     159.42      387259.76   241840.14     145419.62  "
      ]
     },
     "execution_count": 189,
     "metadata": {},
     "output_type": "execute_result"
    }
   ],
   "source": [
    "# Importing necessary libraries\n",
    "\n",
    "import pandas as pd     # pandas is used for data loading, cleaning, and analysis\n",
    "import numpy as np      # numpy is used for efficient numerical operations (e.g., for missing values)\n",
    "import matplotlib.pyplot as plt  # matplotlib is used for creating data visualizations like plots and charts\n",
    "import seaborn as sns   # seaborn is a statistical data visualization, great for advanced visualizations\n",
    "\n",
    "# Load the dataset\n",
    "df = pd.read_csv('c:/Users/singh/Desktop/500 Sales Records.csv')\n",
    "\n",
    "# Display the first 3 rows\n",
    "df.head(3)"
   ]
  },
  {
   "cell_type": "markdown",
   "id": "9918761f",
   "metadata": {},
   "source": [
    "### **Step 2:** Pick the Right Container\n",
    "\n",
    "**Dict** stores sales data flexibly but can be messy. **namedtuple** is cleaner for fixed columns. **class** is best if we want to add methods like profit calculation.\n",
    "\n",
    "**Conclusion:**\n",
    "For above dataset, a custom class is most useful if we are planning to add data validation or extra logic. For simply storing and accessing rows, a namedtuple is clean and efficient."
   ]
  },
  {
   "cell_type": "markdown",
   "id": "1d8e9117",
   "metadata": {},
   "source": [
    "### **Step 3:** Transaction Class and OO Data Structure"
   ]
  },
  {
   "cell_type": "code",
   "execution_count": 190,
   "id": "e3da11b6",
   "metadata": {},
   "outputs": [],
   "source": [
    "from datetime import datetime # For converting date strings into Python date objects\n",
    "from typing import Optional # For type hinting optional fields in the Transaction class\n",
    "\n",
    "class Transaction:\n",
    "    def __init__( sales, \n",
    "        region: str, \n",
    "        country: str, \n",
    "        item_type: str, \n",
    "        sales_channel: str, \n",
    "        order_priority: str, \n",
    "        order_date: str, \n",
    "        order_id: float, \n",
    "        ship_date: str, \n",
    "        units_sold: float, \n",
    "        unit_price: float, \n",
    "        unit_cost: float, \n",
    "        total_revenue: float, \n",
    "        total_cost: float, \n",
    "        total_profit: float):\n",
    "    \n",
    "        # Assigning attributes to the instance\n",
    "        sales.region = region\n",
    "        sales.country = country\n",
    "        sales.item_type = item_type\n",
    "        sales.sales_channel = sales_channel\n",
    "        sales.order_priority = order_priority\n",
    "        \n",
    "        # Convert dates from string to datetime for easier processing\n",
    "        sales.order_date = sales._parse_date(order_date)                    # Converting string to date object\n",
    "        sales.order_id = order_id\n",
    "        sales.ship_date = sales._parse_date(ship_date)                      # Converting string to date object\n",
    "        sales.units_sold = units_sold\n",
    "        sales.unit_price = unit_price\n",
    "        sales.unit_cost = unit_cost\n",
    "        sales.total_revenue = total_revenue\n",
    "        sales.total_cost = total_cost\n",
    "        sales.total_profit = total_profit\n",
    "\n",
    "    def _parse_date(self, date_str):\n",
    "        try:\n",
    "            return datetime.strptime(date_str, \"%m/%d/%Y\")\n",
    "        except Exception:\n",
    "            return None\n",
    "\n",
    "    def is_valid(sales):  # Validate if the transaction has essential fields filled and reasonable values. Extend this method with more checks as needed.\n",
    "        if (\n",
    "            sales.units_sold is not None and sales.units_sold >= 0 and\n",
    "            sales.unit_price is not None and sales.unit_price >= 0 and\n",
    "            sales.order_date is not None and\n",
    "            sales.total_revenue is not None and\n",
    "            sales.total_cost is not None and\n",
    "            sales.total_profit is not None\n",
    "        ):\n",
    "            return True\n",
    "        return False\n",
    "\n",
    "    def profit_margin(sales): # Calculate and return the profit margin as a float. Returns None if revenue is zero or not available.\n",
    "        if sales.total_revenue and sales.total_revenue != 0:\n",
    "            return sales.total_profit / sales.total_revenue\n",
    "        return None\n",
    "\n",
    "    def days_to_ship(sales): # Returns the number of days between order and ship date, or None if unavailable.\"\"\"\n",
    "        if sales.order_date and sales.ship_date:\n",
    "            return (sales.ship_date - sales.order_date).days\n",
    "        return None\n",
    "\n",
    "    def __repr__(sales): # For easy display of the object's main fields\n",
    "        return (f\"Transaction({sales.region}, {sales.country}, {sales.item_type}, {sales.sales_channel}, \"\n",
    "                f\"{sales.order_priority}, {sales.order_date.strftime('%Y-%m-%d') if sales.order_date else 'NA'}, \"\n",
    "                f\"ID: {sales.order_id}, Units: {sales.units_sold}, Revenue: {sales.total_revenue})\")"
   ]
  },
  {
   "cell_type": "markdown",
   "id": "38339b15",
   "metadata": {},
   "source": [
    "### **Step 4:** Bulk Loader"
   ]
  },
  {
   "cell_type": "code",
   "execution_count": 191,
   "id": "9be9f8d7",
   "metadata": {},
   "outputs": [],
   "source": [
    "from typing import List\n",
    "\n",
    "def load_transactions(df) -> List[Transaction]:\n",
    "    transactions = []  # Empty list to store Transaction objects\n",
    "\n",
    "    # Loop through each row in the DataFrame\n",
    "    for idx, row in df.iterrows():\n",
    "        # Create a Transaction object from row data\n",
    "        transaction = Transaction(\n",
    "            row['Region'],             # Region string\n",
    "            row['Country'],            # Country string\n",
    "            row['Item Type'],          # Item type string\n",
    "            row['Sales Channel'],      # Sales channel string\n",
    "            row['Order Priority'],     # Order priority string\n",
    "            row['Order Date'],         # Order date string\n",
    "            row['Order ID'],           # Order ID (float)\n",
    "            row['Ship Date'],          # Ship date string\n",
    "            row['Units Sold'],         # Units sold (float)\n",
    "            row['Unit Price'],         # Unit price (float)\n",
    "            row['Unit Cost'],          # Unit cost (float)\n",
    "            row['Total Revenue'],      # Total revenue (float)\n",
    "            row['Total Cost'],         # Total cost (float)\n",
    "            row['Total Profit']        # Total profit (float)\n",
    "        )\n",
    "        transactions.append(transaction)  # Add the object to the list\n",
    "    return transactions  # Return the complete list of Transaction objects\n",
    "\n",
    "transactions = load_transactions(df)\n"
   ]
  },
  {
   "cell_type": "markdown",
   "id": "def5c343",
   "metadata": {},
   "source": [
    "### **Step 5:** Quick Profiling"
   ]
  },
  {
   "cell_type": "code",
   "execution_count": 192,
   "id": "3c676ac1",
   "metadata": {},
   "outputs": [
    {
     "name": "stdout",
     "output_type": "stream",
     "text": [
      "Min Unit Price: 9.33\n",
      "Mean Unit Price: 274.29506\n",
      "Max Unit Price: 668.27\n",
      "Unique region: {'Australia and Oceania', 'North America', 'Central America and the Caribbean', 'Europe', nan, 'Sub-Saharan Africa', 'Middle East and North Africa', 'Asia'}\n",
      "Number of unique regions: 8\n",
      "Unique country: {'Lebanon', 'Chad', 'Trinidad and Tobago', 'Mauritius ', 'Indonesia', 'Tanzania', 'Kazakhstan', 'Monaco', 'Pakistan', 'Kenya', 'South Africa', 'New Zealand', 'Taiwan', 'Georgia', 'China', 'Syria', 'Belgium', 'Philippines', 'Papua New Guinea', 'Tonga', 'Brunei', 'The Bahamas', 'Poland', 'Nigeria', 'Malta', 'Cuba', 'Bangladesh', 'Tunisia ', 'Tajikistan', 'Austria', 'Qatar', 'Jordan', 'Saint Kitts and Nevis ', 'Greenland', 'Democratic Republic of the Congo', 'Honduras', 'Djibouti', 'South Sudan', 'Benin', 'Senegal', 'Malawi', 'Cyprus', 'Portugal', 'Belize', 'Armenia', 'Guinea-Bissau', 'Uganda', 'Azerbaijan', 'Fiji', 'Sudan', 'Japan', 'Gabon', 'Albania', 'Singapore', 'Eritrea', 'Saint Lucia', 'Croatia', 'Mozambique', 'Andorra', 'Rwanda', 'Morocco', 'South Korea', 'East Timor', 'Vietnam', 'Bhutan', 'Liberia', 'Republic of the Congo', 'United Kingdom', 'Swaziland', 'Tuvalu', 'Grenada', 'Lithuania', 'Yemen', 'Estonia', 'Oman', 'Vatican City', 'Spain', 'Madagascar', 'Cambodia', 'Angola', 'Mexico', 'Equatorial Guinea', 'Samoa ', 'Canada', 'Bahrain', 'Egypt', 'Hungary', 'Kyrgyzstan', 'Australia', 'Uzbekistan', 'Marshall Islands', 'Nicaragua', nan, 'Guatemala', 'Cape Verde', 'Seychelles ', 'Norway', 'Ethiopia', 'Dominican Republic', 'Macedonia', 'Somalia', 'Israel', 'Montenegro', 'Lesotho', 'Luxembourg', 'Bulgaria', 'Myanmar', 'Burkina Faso', 'Switzerland', 'Burundi', 'Afghanistan', \"Cote d'Ivoire\", 'Saudi Arabia', 'Liechtenstein', 'Cameroon', 'Mauritania', 'Ukraine', 'Palau', 'Antigua and Barbuda ', 'Mali', 'Federated States of Micronesia', 'Turkmenistan', 'Barbados', 'Costa Rica', 'Mongolia', 'Slovenia', 'Czech Republic', 'Turkey', 'Zimbabwe', 'Russia', 'Germany', 'Libya', 'Sweden', 'Italy', 'Panama', 'Namibia', 'Togo', 'Nepal', 'Finland', 'Iceland', 'India', 'Greece', 'Romania', 'Guinea', 'Denmark', 'United Arab Emirates', 'Serbia', 'United States of America', 'Vanuatu', 'Moldova ', 'North Korea', 'Laos', 'Iraq', 'Sao Tome and Principe', 'Solomon Islands', 'Ghana', 'Iran', 'Comoros', 'Thailand', 'El Salvador', 'Niger', 'Ireland', 'Maldives', 'Kiribati', 'Central African Republic', 'Jamaica', 'Botswana', 'Malaysia', 'Slovakia', 'Algeria', 'Nauru', 'Belarus'}\n",
      "Number of unique countries: 172\n"
     ]
    }
   ],
   "source": [
    "import math\n",
    "\n",
    "unit_prices = [\n",
    "    t.unit_price for t in transactions \n",
    "    if t.unit_price is not None and not math.isnan(t.unit_price)\n",
    "]\n",
    "\n",
    "# Calculate minimum, mean, and maximum unit price\n",
    "if unit_prices:  # Make sure the list is not empty to avoid errors\n",
    "    min_price = min(unit_prices)\n",
    "    mean_price = sum(unit_prices) / len(unit_prices)\n",
    "    max_price = max(unit_prices)\n",
    "else:\n",
    "    min_price = mean_price = max_price = None\n",
    "\n",
    "# Get all unique regions (since 'City' is not in your dataset, i am use region and country)    \n",
    "unique_region = set(t.region for t in transactions if t.region)\n",
    "\n",
    "# Get all unique Countries\n",
    "unique_country = set(t.country for t in transactions if t.country)\n",
    "# Print results\n",
    "print(f\"Min Unit Price: {min_price}\")\n",
    "print(f\"Mean Unit Price: {mean_price}\")\n",
    "print(f\"Max Unit Price: {max_price}\")\n",
    "print(f\"Unique region: {unique_region}\")\n",
    "print(f\"Number of unique regions: {len(unique_region)}\")\n",
    "print(f\"Unique country: {unique_country}\")\n",
    "print(f\"Number of unique countries: {len(unique_country)}\")"
   ]
  },
  {
   "cell_type": "markdown",
   "id": "d0fbb9d6",
   "metadata": {},
   "source": [
    "### **Step 6:** Spot the Grime"
   ]
  },
  {
   "cell_type": "code",
   "execution_count": 193,
   "id": "677e46d6",
   "metadata": {},
   "outputs": [
    {
     "name": "stdout",
     "output_type": "stream",
     "text": [
      "Transactions with missing Units Sold: 0\n",
      "Transactions with negative Unit Price: 0\n",
      "Transactions with missing Country: 0\n"
     ]
    }
   ],
   "source": [
    "missing_units = [t for t in transactions if t.units_sold is None]\n",
    "negative_prices = [t for t in transactions if t.unit_price is not None and t.unit_price < 0]\n",
    "missing_country = [t for t in transactions if not t.country]\n",
    "\n",
    "print(f\"Transactions with missing Units Sold: {len(missing_units)}\")\n",
    "print(f\"Transactions with negative Unit Price: {len(negative_prices)}\")\n",
    "print(f\"Transactions with missing Country: {len(missing_country)}\")"
   ]
  }
 ],
 "metadata": {
  "kernelspec": {
   "display_name": "Python 3",
   "language": "python",
   "name": "python3"
  },
  "language_info": {
   "codemirror_mode": {
    "name": "ipython",
    "version": 3
   },
   "file_extension": ".py",
   "mimetype": "text/x-python",
   "name": "python",
   "nbconvert_exporter": "python",
   "pygments_lexer": "ipython3",
   "version": "3.12.3"
  }
 },
 "nbformat": 4,
 "nbformat_minor": 5
}
